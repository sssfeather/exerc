{
 "cells": [
  {
   "cell_type": "markdown",
   "metadata": {},
   "source": [
    "### 0.导入函数库"
   ]
  },
  {
   "cell_type": "code",
   "execution_count": null,
   "metadata": {},
   "outputs": [],
   "source": [
    "%matplotlib inline\n",
    "import matplotlib.pyplot as plt\n",
    "import numpy as np\n",
    "from math import log10\n",
    "from utilities.location import geiger_locate\n",
    "from utilities.location import geiger_locate_lat_lon\n",
    "from obspy import read_inventory\n",
    "from obspy import read_events\n",
    "from obspy import UTCDateTime, read\n",
    "from obspy.geodetics import gps2dist_azimuth\n",
    "from obspy.geodetics.base import locations2degrees\n",
    "from obspy.geodetics.base import degrees2kilometers\n",
    "from obspy.geodetics.base import kilometers2degrees\n",
    "from obspy.taup import TauPyModel\n",
    "from obspy.taup import plot_travel_times\n",
    "import warnings\n",
    "warnings.filterwarnings(\"ignore\")\n",
    "import logging\n",
    "logging.basicConfig(\n",
    "    format=\"%(name)s\\t%(levelname)s\\t%(message)s\", \n",
    "    level=logging.INFO)"
   ]
  },
  {
   "cell_type": "markdown",
   "metadata": {},
   "source": [
    "### 1.台站坐标转换"
   ]
  },
  {
   "cell_type": "code",
   "execution_count": null,
   "metadata": {},
   "outputs": [],
   "source": [
    "lat1=36.5\n",
    "lon1=116.4\n",
    "lat2=29.59\n",
    "lon2=102.08\n",
    "\n",
    "# 计算两点之间的距离\n",
    "distance = locations2degrees(lat1, lon1, lat2, lon2)\n",
    "print(\"distance(degress):\", distance)\n",
    "\n",
    "# 度转公里\n",
    "kilometers = degrees2kilometers(lat1, radius=6371.0)\n",
    "print(\"distance(kilometers):\", kilometers)\n",
    "# 公里转度\n",
    "degrees = kilometers2degrees(4058.6, radius=6371.0)\n",
    "print(\"distance(degrees):\", degrees)\n",
    "print(\"\\n\")\n",
    "# 计算震中距、方位角、反方位角\n",
    "distance,azimuth, bazimuth = gps2dist_azimuth(lat1, lon1, lat2, lon2)\n",
    "print(\"distance:\", distance)\n",
    "print(\"azimuth: \", azimuth)\n",
    "print(\"bazimuth:\", bazimuth)"
   ]
  },
  {
   "cell_type": "markdown",
   "metadata": {},
   "source": [
    "### 2.震相到时与地震波路径"
   ]
  },
  {
   "cell_type": "markdown",
   "metadata": {},
   "source": [
    "***(1)震中距与震相到时计算***\n",
    "\n",
    "震相命名规则使用IASPEI命名规则（与国内常用命名规则不完全相同），参考 <a href=\"http://www.isc.ac.uk/standards/phases/\">http://www.isc.ac.uk/standards/phases/</a>\n",
    "<br><br>\n",
    "速度模型参考：<br>\n",
    "<ul class=\"simple\">\n",
    "<li><p><code class=\"docutils literal notranslate\"><span class=\"pre\">1066a</span></code>, see <a class=\"reference internal\" href=\"\" id=\"id2\"><span>[GilbertDziewonski1975]</span></a></p></li>\n",
    "<li><p><code class=\"docutils literal notranslate\"><span class=\"pre\">1066b</span></code>, see <a class=\"reference internal\" href=\"\" id=\"id3\"><span>[GilbertDziewonski1975]</span></a></p></li>\n",
    "<li><p><code class=\"docutils literal notranslate\"><span class=\"pre\">ak135</span></code>, see <a class=\"reference internal\" href=\"\" id=\"id4\"><span>[KennetEngdahlBuland1995]</span></a></p></li>\n",
    "<li><p><code class=\"docutils literal notranslate\"><span class=\"pre\">ak135f</span></code>, see <a class=\"reference internal\" href=\"\" id=\"id5\"><span>[KennetEngdahlBuland1995]</span></a>, <a class=\"reference internal\" href=\"\" id=\"id6\"><span>[MontagnerKennett1995]</span></a>, and\n",
    "<a class=\"reference external\" href=\"http://rses.anu.edu.au/seismology/ak135/ak135f.html\">http://rses.anu.edu.au/seismology/ak135/ak135f.html</a> (not supported)</p></li>\n",
    "<li><p><code class=\"docutils literal notranslate\"><span class=\"pre\">ak135f_no_mud</span></code>, <code class=\"docutils literal notranslate\"><span class=\"pre\">ak135f</span></code> with <code class=\"docutils literal notranslate\"><span class=\"pre\">ak135</span></code> used above the 120-km\n",
    "discontinuity; see the SPECFEM3D_GLOBE manual at\n",
    "<a class=\"reference external\" href=\"https://geodynamics.org/cig/software/specfem3d_globe/\">https://geodynamics.org/cig/software/specfem3d_globe/</a></p></li>\n",
    "<li><p><code class=\"docutils literal notranslate\"><span class=\"pre\">herrin</span></code>, see <a class=\"reference internal\" href=\"\" id=\"id7\"><span>[Herrin1968]</span></a></p></li>\n",
    "<li><p><code class=\"docutils literal notranslate\"><span class=\"pre\">iasp91</span></code>, see <a class=\"reference internal\" href=\"\" id=\"id8\"><span>[KennetEngdahl1991]</span></a></p></li>\n",
    "<li><p><code class=\"docutils literal notranslate\"><span class=\"pre\">jb</span></code>, see <a class=\"reference internal\" href=\"\" id=\"id9\"><span>[JeffreysBullen1940]</span></a></p></li>\n",
    "<li><p><code class=\"docutils literal notranslate\"><span class=\"pre\">prem</span></code>, see <a class=\"reference internal\" href=\"\" id=\"id10\"><span>[Dziewonski1981]</span></a></p></li>\n",
    "<li><p><code class=\"docutils literal notranslate\"><span class=\"pre\">pwdk</span></code>, see <a class=\"reference internal\" href=\"\" id=\"id11\"><span>[WeberDavis1990]</span></a></p></li>\n",
    "<li><p><code class=\"docutils literal notranslate\"><span class=\"pre\">sp6</span></code>, see <a class=\"reference internal\" href=\"\" id=\"id12\"><span>[MorelliDziewonski1993]</span></a></p></li>\n",
    "</ul>"
   ]
  },
  {
   "cell_type": "code",
   "execution_count": null,
   "metadata": {},
   "outputs": [],
   "source": [
    "# 震源深度，单位：公里\n",
    "source_dep = 80.0\n",
    "# 震源纬度，单位：度\n",
    "source_lat = -6.22\n",
    "# 震源经度，单位：度\n",
    "source_lon = 146.48\n",
    "# 发震时间\n",
    "seis_time = \"2022-09-10T23:46:58\"\n",
    "# 震相\n",
    "phases = [\"P\", \"S\"]\n",
    "# 选择速度模型,支持以下速度模型和自定义taup模型\n",
    "tau_model = TauPyModel(model=\"iasp91\")\n",
    "\n",
    "plt.rcParams['figure.figsize'] = 6, 6\n",
    "\n",
    "# 震中距与震相到时计算\n",
    "inventory = read_inventory(\"../data/BJ.DHC.xml\")\n",
    "seis_time = UTCDateTime(seis_time)\n",
    "for inv in inventory:\n",
    "    for i in inv:\n",
    "        arrivals = tau_model.get_travel_times_geo(source_depth_in_km=source_dep,\n",
    "                                                    source_latitude_in_deg=source_lat,\n",
    "                                                    source_longitude_in_deg=source_lon,\n",
    "                                                    receiver_latitude_in_deg=i.latitude,\n",
    "                                                    receiver_longitude_in_deg=i.longitude,\n",
    "                                                    phase_list=phases)\n",
    "        purist_distance = arrivals[0].purist_distance\n",
    "\n",
    "        arrivals = tau_model.get_travel_times(source_depth_in_km=source_dep, distance_in_degree=purist_distance)\n",
    "        for arr in arrivals:\n",
    "            arr_time = (seis_time + arr.time).strftime(\"%Y-%m-%dT%H:%M:%S.%f\")\n",
    "            str_phase = arr.name + \" phase arrival: \"\n",
    "            str_phase = str_phase.ljust(32,' ')\n",
    "            print(str_phase + arr_time)\n",
    "            \n",
    "ray_phases = ['P', 'pP', 'sP', 'PcP', 'ScP', 'PcS', 'S', 'SP', 'sS', 'ScS', 'PKiKP', 'SKiKP']\n",
    "ray_arrivals = tau_model.get_ray_paths(source_dep, purist_distance, phase_list=ray_phases)\n",
    "ray_arrivals.plot_rays(plot_type='spherical', phase_list=ray_phases, legend=True)"
   ]
  },
  {
   "cell_type": "code",
   "execution_count": null,
   "metadata": {},
   "outputs": [],
   "source": [
    "# 发震时间(UTC时间)\n",
    "seis_time = \"2022-09-10T23:46:58\"\n",
    "# 震前时间长度（单位：秒）\n",
    "seis_bef = -400\n",
    "# 震后时间长度（单位：秒）\n",
    "seis_aft = 900 - seis_bef\n",
    "seis_time = UTCDateTime(seis_time)\n",
    "start_time = seis_time - seis_bef\n",
    "end_time = seis_time + seis_aft\n",
    "\n",
    "# 绘图\n",
    "plt.rcParams['figure.figsize'] = 16, 6\n",
    "st = read(\"../data/event_test1.mseed\")\n",
    "st = st.merge(fill_value=0)\n",
    "ax1 = plt.subplot(111)\n",
    "plt.plot(st[0].data, color='#A9A9A9')\n",
    "\n",
    "ymin, ymax = ax1.get_ylim()\n",
    "\n",
    "sample = st[0].stats.sampling_rate\n",
    "import random\n",
    "for arr in ray_arrivals:\n",
    "    phase_x = ((seis_time + arr.time) - start_time) * sample\n",
    "    color = [\"#\"+''.join([random.choice('0123456789ABCDEF') for j in range(6)])]\n",
    "    ax1.vlines(phase_x, ymin, ymax, color=color, linestyles='dashed', linewidth=1, label=arr.name)\n",
    "plt.legend()\n",
    "plt.show()\n"
   ]
  },
  {
   "cell_type": "markdown",
   "metadata": {},
   "source": [
    "***(2)给定距离范围和深度，绘制用iasp91速度模型计算的走时***"
   ]
  },
  {
   "cell_type": "code",
   "execution_count": null,
   "metadata": {},
   "outputs": [],
   "source": [
    "plt.rcParams['figure.figsize'] = 9, 7\n",
    "fig, ax = plt.subplots()\n",
    "ax = plot_travel_times(source_depth=source_dep, ax=ax, fig=fig, phase_list=['P', 'PP', 'S', 'SS'])"
   ]
  },
  {
   "cell_type": "markdown",
   "metadata": {},
   "source": [
    "***(3)绘制给定距离和震相的射线路径***"
   ]
  },
  {
   "cell_type": "code",
   "execution_count": null,
   "metadata": {},
   "outputs": [],
   "source": [
    "arrivals = tau_model.get_ray_paths(source_dep, purist_distance, phase_list=['P','PP', 'S', 'SS'])\n",
    "arrivals.plot_rays(plot_type='cartesian', phase_list=['PP', 'SS'], plot_all=False, legend=True)\n",
    "for arr in arrivals:\n",
    "    print(arr.name, arr.time)"
   ]
  },
  {
   "cell_type": "markdown",
   "metadata": {},
   "source": [
    "### 3.geiger计算\n",
    "```\n",
    "下面练习只考虑使用单层均匀速度模型\n",
    "```"
   ]
  },
  {
   "cell_type": "markdown",
   "metadata": {},
   "source": [
    "***（1）使用理论值***"
   ]
  },
  {
   "cell_type": "code",
   "execution_count": null,
   "metadata": {},
   "outputs": [],
   "source": [
    "%matplotlib widget\n",
    "known_location = {\"x\": 10.0, \"y\": 4.0, \"z\": 12.0, \"time\": 0.0}\n",
    "vp = 5.0\n",
    "vs = 3.0\n",
    "\n",
    "stations = [\n",
    "    {\"x\": 0, \"y\": 0, \"z\": 0},\n",
    "    {\"x\": 2, \"y\": 15, \"z\": 0},\n",
    "    {\"x\": 10, \"y\": 7, \"z\": 0},\n",
    "    {\"x\": 14, \"y\": 12, \"z\": 0}]\n",
    "\n",
    "p_times = np.zeros(len(stations))\n",
    "s_times = np.zeros_like(p_times)\n",
    "\n",
    "for i, station in enumerate(stations):\n",
    "    distance = (\n",
    "        (station[\"x\"] - known_location[\"x\"]) ** 2 +\n",
    "        (station[\"y\"] - known_location[\"y\"]) ** 2 + \n",
    "        (station[\"z\"] - known_location[\"z\"]) ** 2) ** 0.5\n",
    "    p_times[i] = distance / vp\n",
    "    s_times[i] = distance / vs\n",
    "\n",
    "inverted_model = geiger_locate(\n",
    "    p_times=p_times, p_locations=stations, s_times=s_times,\n",
    "    s_locations=stations, vp=vp, vs=vs, starting_depth=5.0, plot=True)\n",
    "\n",
    "print(\"Found a solution at x = {0:.2f}, y = {1:.2f}, z = {2:.2f}, \"\n",
    "      \"time = {3:.2f}\".format(inverted_model[\"x\"], inverted_model[\"y\"],\n",
    "                              inverted_model[\"z\"], inverted_model[\"time\"]))"
   ]
  },
  {
   "cell_type": "markdown",
   "metadata": {},
   "source": [
    "***（2）加入随机干扰***"
   ]
  },
  {
   "cell_type": "code",
   "execution_count": null,
   "metadata": {},
   "outputs": [],
   "source": [
    "np.random.seed(42)\n",
    "p_times = [time + np.random.sample() - .5 for time in p_times]\n",
    "s_times = [time + np.random.sample() - .5 for time in s_times]\n",
    "\n",
    "inverted_model = geiger_locate(\n",
    "    p_times=p_times, p_locations=stations, s_times=s_times,\n",
    "    s_locations=stations, vp=vp, vs=vs, starting_depth=5.0, plot=True)\n",
    "\n",
    "print(\"Solution at x = {0:.2f}, y = {1:.2f}, z = {2:.2f}, \"\n",
    "      \"time = {3:.2f}\".format(inverted_model[\"x\"], inverted_model[\"y\"],\n",
    "                              inverted_model[\"z\"], inverted_model[\"time\"]))"
   ]
  },
  {
   "cell_type": "markdown",
   "metadata": {},
   "source": [
    "***（3）增加台站密度***"
   ]
  },
  {
   "cell_type": "code",
   "execution_count": null,
   "metadata": {},
   "outputs": [],
   "source": [
    "stations = [\n",
    "    {\"x\": 0, \"y\": 0, \"z\": 0},\n",
    "    {\"x\": 2, \"y\": 15, \"z\": 0},\n",
    "    {\"x\": 10, \"y\": 7, \"z\": 0},\n",
    "    {\"x\": 14, \"y\": 12, \"z\": 0},\n",
    "    {\"x\": 20, \"y\": 2, \"z\": 1.2},\n",
    "    {\"x\": 16, \"y\": 20, \"z\": -0.5},\n",
    "    {\"x\": -20, \"y\": -12, \"z\": 0},\n",
    "    {\"x\": -14, \"y\": -6, \"z\": 0},\n",
    "    {\"x\": 30, \"y\": -10, \"z\": 0},\n",
    "    {\"x\": -25, \"y\": 20, \"z\": 0}]\n",
    "\n",
    "p_times = np.zeros(len(stations))\n",
    "s_times = np.zeros_like(p_times)\n",
    "\n",
    "for i, station in enumerate(stations):\n",
    "    distance = (\n",
    "        (station[\"x\"] - known_location[\"x\"]) ** 2 +\n",
    "        (station[\"y\"] - known_location[\"y\"]) ** 2 + \n",
    "        (station[\"z\"] - known_location[\"z\"]) ** 2) ** 0.5\n",
    "    p_times[i] = distance / vp\n",
    "    s_times[i] = distance / vs\n",
    "\n",
    "p_times = [time + np.random.sample() - .5 for time in p_times]\n",
    "s_times = [time + np.random.sample() - .5 for time in s_times]\n",
    "    \n",
    "inverted_model = geiger_locate(\n",
    "    p_times=p_times, p_locations=stations, s_times=s_times,\n",
    "    s_locations=stations, vp=vp, vs=vs, convergence=0.00001, \n",
    "    starting_depth=5.0, plot=True)\n",
    "\n",
    "print(\"Found a solution at x = {0:.2f}, y = {1:.2f}, z = {2:.2f}, \"\n",
    "      \"time = {3:.2f}\".format(inverted_model[\"x\"], inverted_model[\"y\"],\n",
    "                              inverted_model[\"z\"], inverted_model[\"time\"]))"
   ]
  },
  {
   "cell_type": "markdown",
   "metadata": {},
   "source": [
    "***（4）使用真实数据测试***"
   ]
  },
  {
   "cell_type": "code",
   "execution_count": null,
   "metadata": {},
   "outputs": [],
   "source": [
    "event = read_events(\"../data/event_2019345502.xml\")[0]\n",
    "inventory = read_inventory(\"../data/stations_2019345502.xml\")\n",
    "\n",
    "p_times, p_locations, s_times, s_locations = ([], [], [], [])\n",
    "\n",
    "for pick in event.picks:\n",
    "    try:\n",
    "        loc = inventory.get_coordinates(pick.waveform_id.get_seed_string())\n",
    "    except:\n",
    "        print(\"No location found for {0}\".format(\n",
    "            pick.waveform_id.get_seed_string()))\n",
    "        continue\n",
    "    if pick.phase_hint == \"P\":\n",
    "        p_times.append(pick.time)\n",
    "        p_locations.append(\n",
    "            {\"lat\": loc[\"latitude\"], \"lon\": loc[\"longitude\"], \n",
    "             \"z\": loc[\"elevation\"] / 1000.})\n",
    "    elif pick.phase_hint == \"S\":\n",
    "        s_times.append(pick.time)\n",
    "        s_locations.append(\n",
    "            {\"lat\": loc[\"latitude\"], \"lon\": loc[\"longitude\"], \n",
    "             \"z\": loc[\"elevation\"] / 1000.})\n",
    "\n",
    "print(f\"{len(s_times)} S picks and {len(p_times)} P picks.\")\n",
    "\n",
    "model = geiger_locate_lat_lon(p_times, p_locations, s_times, s_locations, vp=5.8,\n",
    "                              vs=3.36, plot=True, starting_depth=5.)\n",
    "\n",
    "print(\"GeoNet location: {0:.2f} latitude, {1:.2f} longitude, {2:.2f} depth (km) {3} origin time\".format(\n",
    "    event.preferred_origin().latitude, event.preferred_origin().longitude,\n",
    "    event.preferred_origin().depth / 1000., event.preferred_origin().time))\n",
    "print(\"Test location: {0:.2f} latitude, {1:.2f} longitude, {2:.2f} depth (km) {3} origin time\".format(\n",
    "    model[\"lat\"], model[\"lon\"], model[\"z\"], model[\"time\"]))"
   ]
  },
  {
   "cell_type": "markdown",
   "metadata": {},
   "source": [
    "### 4.震级计算"
   ]
  },
  {
   "cell_type": "code",
   "execution_count": null,
   "metadata": {},
   "outputs": [],
   "source": [
    "st = read(\"../data/LKBD.MSEED\")\n",
    "\n",
    "paz_le3d5s = {'gain': 1.009,\n",
    "              'poles': [-0.885 + 0.887j,\n",
    "                        -0.885 - 0.887j,\n",
    "                        -0.427 + 0j],\n",
    "              'sensitivity': 167364000.0,\n",
    "              'zeros': [0j, 0j, 0j]}\n",
    "paz_wa = {'sensitivity': 2800, 'zeros': [0j], 'gain': 1,\n",
    "          'poles': [-6.2832 - 4.7124j, -6.2832 + 4.7124j]}\n",
    "\n",
    "st.simulate(paz_remove=paz_le3d5s, paz_simulate=paz_wa, water_level=10)\n",
    "\n",
    "t = UTCDateTime(\"2012-04-03T02:45:03\")\n",
    "st.trim(t, t + 50)\n",
    "\n",
    "tr_n = st.select(component=\"N\")[0]\n",
    "ampl_n = max(abs(tr_n.data))\n",
    "tr_e = st.select(component=\"E\")[0]\n",
    "ampl_e = max(abs(tr_e.data))\n",
    "ampl = max(ampl_n, ampl_e)\n",
    "\n",
    "sta_lat = 46.38703\n",
    "sta_lon = 7.62714\n",
    "event_lat = 46.218\n",
    "event_lon = 7.706\n",
    "\n",
    "epi_dist, az, baz = gps2dist_azimuth(event_lat, event_lon, sta_lat, sta_lon)\n",
    "epi_dist = epi_dist / 1000\n",
    "\n",
    "ml = log10(ampl * 1000) + 0.018 * epi_dist + 2.17\n",
    "print(\"SED Ml = {0:.2f}\".format(ml))\n",
    "#\n",
    "ml = log10(ampl * 1e6) + 1.11 * log10(epi_dist) + 0.00189 * epi_dist - 2.09\n",
    "print(\"IASPEI Ml = {0:.2f}\".format(ml))"
   ]
  }
 ],
 "metadata": {
  "kernelspec": {
   "display_name": "Python 3 (ipykernel)",
   "language": "python",
   "name": "python3"
  },
  "language_info": {
   "codemirror_mode": {
    "name": "ipython",
    "version": 3
   },
   "file_extension": ".py",
   "mimetype": "text/x-python",
   "name": "python",
   "nbconvert_exporter": "python",
   "pygments_lexer": "ipython3",
   "version": "3.11.4"
  }
 },
 "nbformat": 4,
 "nbformat_minor": 4
}
