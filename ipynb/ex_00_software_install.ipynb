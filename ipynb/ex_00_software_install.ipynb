{
 "cells": [
  {
   "cell_type": "markdown",
   "metadata": {},
   "source": [
    "### install\n",
    "```\n",
    "install miniconda\n",
    "conda create -n exerc python=3.11\n",
    "conda activate exerc\n",
    "\n",
    "conda install jupyterlab -c conda-forge\n",
    "conda install obspy -c conda-forge\n",
    "conda install nodejs\n",
    "conda install cartopy -c conda-forge\n",
    "conda install ipysheet -c conda-forge\n",
    "conda install bokeh -c conda-forge\n",
    "```\n",
    "**option**\n",
    "```\n",
    "conda install -c conda-forge pywavelets\n",
    "conda install -c conda-forge pygmt\n",
    "conda install -c conda-forge pyqtgraph\n",
    "```"
   ]
  }
 ],
 "metadata": {
  "kernelspec": {
   "display_name": "Python 3 (ipykernel)",
   "language": "python",
   "name": "python3"
  },
  "language_info": {
   "codemirror_mode": {
    "name": "ipython",
    "version": 3
   },
   "file_extension": ".py",
   "mimetype": "text/x-python",
   "name": "python",
   "nbconvert_exporter": "python",
   "pygments_lexer": "ipython3",
   "version": "3.11.4"
  }
 },
 "nbformat": 4,
 "nbformat_minor": 4
}
